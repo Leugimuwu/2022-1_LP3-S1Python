{
 "cells": [
  {
   "cell_type": "markdown",
   "id": "1c69f93e",
   "metadata": {},
   "source": [
    "# Semana05\n",
    "Miguel Angel Yauricasa Mendoza"
   ]
  },
  {
   "cell_type": "markdown",
   "id": "a65a7b56",
   "metadata": {},
   "source": [
    "Tema"
   ]
  },
  {
   "cell_type": "markdown",
   "id": "c600e6cb",
   "metadata": {},
   "source": [
    "1. Números\n",
    "2. Variables\n",
    "3. Manejo de cadenas\n",
    "4. Ingreso de datos por teclado\n",
    "5. Operadores"
   ]
  },
  {
   "cell_type": "markdown",
   "id": "428e3a71",
   "metadata": {},
   "source": [
    "4. Ingreso de datos por el teclado"
   ]
  },
  {
   "cell_type": "code",
   "execution_count": 3,
   "id": "1a2b19a8",
   "metadata": {},
   "outputs": [
    {
     "name": "stdout",
     "output_type": "stream",
     "text": [
      "¿Cual es tu nombre?\n",
      "Miguel\n",
      "hola Miguel\n"
     ]
    }
   ],
   "source": [
    "#Funcion input()\n",
    "print(\"¿Cual es tu nombre?\")\n",
    "nombre=input()\n",
    "print(\"hola \" + nombre)"
   ]
  },
  {
   "cell_type": "code",
   "execution_count": 5,
   "id": "3f217df5",
   "metadata": {},
   "outputs": [
    {
     "name": "stdout",
     "output_type": "stream",
     "text": [
      "numero1: \n",
      "10\n",
      "numero2: \n",
      "20\n",
      "El resultado es 30\n"
     ]
    }
   ],
   "source": [
    "#Cuando ingresa un valor por teclado la hace como cadena\n",
    "print(\"numero1: \")\n",
    "numero1=input()\n",
    "print(\"numero2: \")\n",
    "numero2=input()\n",
    "numero3= int(numero1) + int(numero2)\n",
    "print(f\"El resultado es {numero3}\")"
   ]
  },
  {
   "cell_type": "code",
   "execution_count": null,
   "id": "26aede9f",
   "metadata": {},
   "outputs": [],
   "source": []
  }
 ],
 "metadata": {
  "kernelspec": {
   "display_name": "Python 3 (ipykernel)",
   "language": "python",
   "name": "python3"
  },
  "language_info": {
   "codemirror_mode": {
    "name": "ipython",
    "version": 3
   },
   "file_extension": ".py",
   "mimetype": "text/x-python",
   "name": "python",
   "nbconvert_exporter": "python",
   "pygments_lexer": "ipython3",
   "version": "3.9.7"
  }
 },
 "nbformat": 4,
 "nbformat_minor": 5
}
