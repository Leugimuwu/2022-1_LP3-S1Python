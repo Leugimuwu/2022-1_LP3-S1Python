{
 "cells": [
  {
   "cell_type": "markdown",
   "id": "42ce7fb7",
   "metadata": {},
   "source": [
    "# Semana 5\n",
    "Miguel Angel Yauricasa Mendoza"
   ]
  },
  {
   "cell_type": "markdown",
   "id": "442271bd",
   "metadata": {},
   "source": [
    "Temas"
   ]
  },
  {
   "cell_type": "markdown",
   "id": "a794c51d",
   "metadata": {},
   "source": [
    "1. Números\n",
    "2. Variables\n",
    "3. Manejo de cadenas\n",
    "4. Ingreso de datos por teclado\n",
    "5. Operadores"
   ]
  },
  {
   "cell_type": "markdown",
   "id": "d96eb17c",
   "metadata": {},
   "source": [
    "3. Manejo de cadenas"
   ]
  },
  {
   "cell_type": "code",
   "execution_count": 25,
   "id": "6e5979ac",
   "metadata": {},
   "outputs": [
    {
     "data": {
      "text/plain": [
       "'Universidad Nacional Tecnologica de Lima Sur'"
      ]
     },
     "execution_count": 25,
     "metadata": {},
     "output_type": "execute_result"
    }
   ],
   "source": [
    "cadena=\"Universidad Nacional Tecnologica de Lima Sur\"\n",
    "cadena"
   ]
  },
  {
   "cell_type": "code",
   "execution_count": 26,
   "id": "953cbe73",
   "metadata": {},
   "outputs": [],
   "source": [
    "#Universidad Nacional Tecnologica de Lima Sur\n"
   ]
  },
  {
   "cell_type": "code",
   "execution_count": 27,
   "id": "3de5f9eb",
   "metadata": {},
   "outputs": [
    {
     "data": {
      "text/plain": [
       "'r'"
      ]
     },
     "execution_count": 27,
     "metadata": {},
     "output_type": "execute_result"
    }
   ],
   "source": [
    "cadena[5]"
   ]
  },
  {
   "cell_type": "code",
   "execution_count": 28,
   "id": "ba3b049f",
   "metadata": {},
   "outputs": [
    {
     "data": {
      "text/plain": [
       "'d'"
      ]
     },
     "execution_count": 28,
     "metadata": {},
     "output_type": "execute_result"
    }
   ],
   "source": [
    "cadena[10]"
   ]
  },
  {
   "cell_type": "code",
   "execution_count": 29,
   "id": "8b2d26e2",
   "metadata": {},
   "outputs": [
    {
     "data": {
      "text/plain": [
       "' '"
      ]
     },
     "execution_count": 29,
     "metadata": {},
     "output_type": "execute_result"
    }
   ],
   "source": [
    "cadena[11]"
   ]
  },
  {
   "cell_type": "code",
   "execution_count": 30,
   "id": "ca3c8f55",
   "metadata": {},
   "outputs": [
    {
     "data": {
      "text/plain": [
       "'T'"
      ]
     },
     "execution_count": 30,
     "metadata": {},
     "output_type": "execute_result"
    }
   ],
   "source": [
    "cadena[21]"
   ]
  },
  {
   "cell_type": "code",
   "execution_count": 31,
   "id": "a0c3f76c",
   "metadata": {},
   "outputs": [
    {
     "data": {
      "text/plain": [
       "'T'"
      ]
     },
     "execution_count": 31,
     "metadata": {},
     "output_type": "execute_result"
    }
   ],
   "source": [
    "cadena[-23]"
   ]
  },
  {
   "cell_type": "code",
   "execution_count": 32,
   "id": "9aceb83b",
   "metadata": {},
   "outputs": [
    {
     "data": {
      "text/plain": [
       "'versi'"
      ]
     },
     "execution_count": 32,
     "metadata": {},
     "output_type": "execute_result"
    }
   ],
   "source": [
    "#Para mostrar una subcadena [desde, hasta una antes]\n",
    "#En java era substring()\n",
    "cadena[3:8]"
   ]
  },
  {
   "cell_type": "code",
   "execution_count": 33,
   "id": "f127d76c",
   "metadata": {},
   "outputs": [
    {
     "data": {
      "text/plain": [
       "44"
      ]
     },
     "execution_count": 33,
     "metadata": {},
     "output_type": "execute_result"
    }
   ],
   "source": [
    "#Para saber el tamaño de una cadena utilizamos len()\n",
    "#incluyes espacios en blanco\n",
    "len(cadena)"
   ]
  },
  {
   "cell_type": "code",
   "execution_count": 34,
   "id": "d5890c06",
   "metadata": {},
   "outputs": [
    {
     "data": {
      "text/plain": [
       "'UNIVERSIDAD NACIONAL TECNOLOGICA DE LIMA SUR'"
      ]
     },
     "execution_count": 34,
     "metadata": {},
     "output_type": "execute_result"
    }
   ],
   "source": [
    "#Para mostrar una cadena en MAYUSCULA utilizamos upper()\n",
    "cadena.upper()"
   ]
  },
  {
   "cell_type": "code",
   "execution_count": 35,
   "id": "91f45a3a",
   "metadata": {},
   "outputs": [
    {
     "data": {
      "text/plain": [
       "'UNIVERSIDAD NACIONAL TECNOLOGICA DE LIMA SUR'"
      ]
     },
     "execution_count": 35,
     "metadata": {},
     "output_type": "execute_result"
    }
   ],
   "source": [
    "#Si desearas cambiarlo harias\n",
    "cadena= cadena.upper()\n",
    "cadena"
   ]
  },
  {
   "cell_type": "code",
   "execution_count": 36,
   "id": "13b8d24f",
   "metadata": {},
   "outputs": [
    {
     "data": {
      "text/plain": [
       "'universidad nacional tecnologica de lima sur'"
      ]
     },
     "execution_count": 36,
     "metadata": {},
     "output_type": "execute_result"
    }
   ],
   "source": [
    "#Para mostrar en minuscula utilizamos lower()\n",
    "cadena.lower()\n"
   ]
  },
  {
   "cell_type": "code",
   "execution_count": 37,
   "id": "dfd9dc75",
   "metadata": {},
   "outputs": [
    {
     "data": {
      "text/plain": [
       "['UNIVERSIDAD', 'NACIONAL', 'TECNOLOGICA', 'DE', 'LIMA', 'SUR']"
      ]
     },
     "execution_count": 37,
     "metadata": {},
     "output_type": "execute_result"
    }
   ],
   "source": [
    "#Para generar una lista a partir de una cadena utilizamos split()\n",
    "cadena.split()"
   ]
  },
  {
   "cell_type": "code",
   "execution_count": 38,
   "id": "c4f63510",
   "metadata": {},
   "outputs": [
    {
     "data": {
      "text/plain": [
       "['UNIVERSID', 'D N', 'CION', 'L TECNOLOGIC', ' DE LIM', ' SUR']"
      ]
     },
     "execution_count": 38,
     "metadata": {},
     "output_type": "execute_result"
    }
   ],
   "source": [
    "#Para generar una lista utilizamos un criterio de separacion a partir de una cadena split()\n",
    "#en este caso vamos a generar una lista de toda la cadena, utilizando como criterio de separacion la letra \"A\"\n",
    "cadena.split(\"A\")"
   ]
  },
  {
   "cell_type": "code",
   "execution_count": 40,
   "id": "f1eb2ed2",
   "metadata": {},
   "outputs": [
    {
     "name": "stdout",
     "output_type": "stream",
     "text": [
      "Buenos Días Miguel Yauricasa\n"
     ]
    }
   ],
   "source": [
    "#Forma clasica de concatenar con +\n",
    "nombre=\" Miguel Yauricasa\"\n",
    "print(\"Buenos Días\" + nombre)"
   ]
  },
  {
   "cell_type": "code",
   "execution_count": 41,
   "id": "3910d574",
   "metadata": {},
   "outputs": [
    {
     "name": "stdout",
     "output_type": "stream",
     "text": [
      "Hola Jose Chamba ya se que tienes 20 años\n"
     ]
    }
   ],
   "source": [
    "#utilizando el .format()\n",
    "nombre=\"Jose Chamba\"\n",
    "edad= 20\n",
    "print(\"Hola {} ya se que tienes {} años\".format(nombre,edad))"
   ]
  },
  {
   "cell_type": "code",
   "execution_count": 42,
   "id": "6a51e449",
   "metadata": {},
   "outputs": [
    {
     "name": "stdout",
     "output_type": "stream",
     "text": [
      "10/3 es = 3.3333333333333335\n",
      "10/3 es = 3.333\n"
     ]
    }
   ],
   "source": [
    "#Dar formato con muchos decimales \n",
    "resultado= 10/3\n",
    "print(\"10/3 es = {}\".format(resultado))\n",
    "print(\"10/3 es = {r:1.3f}\".format(r=resultado))"
   ]
  },
  {
   "cell_type": "code",
   "execution_count": 45,
   "id": "124c78d1",
   "metadata": {},
   "outputs": [
    {
     "name": "stdout",
     "output_type": "stream",
     "text": [
      "Buenos días Miguel Angel, ya sé que tienes 20 años\n"
     ]
    }
   ],
   "source": [
    "#Dar formato con f\n",
    "#La funcion f, esta disponible desde la version 3,6\n",
    "nombre= \"Miguel Angel\"\n",
    "edad= 20\n",
    "print(f\"Buenos días {nombre}, ya sé que tienes {edad} años\")"
   ]
  },
  {
   "cell_type": "code",
   "execution_count": 46,
   "id": "c2005e8f",
   "metadata": {},
   "outputs": [
    {
     "name": "stdout",
     "output_type": "stream",
     "text": [
      "10/3 es = 3.3333333333333335\n",
      "10/3 es = 3.333\n"
     ]
    }
   ],
   "source": [
    "#Dar formato a numeros con muchos decimales con f \n",
    "resultado = 10/3\n",
    "print(f\"10/3 es = {resultado}\")\n",
    "print(f\"10/3 es = {resultado:1.3f}\")"
   ]
  },
  {
   "cell_type": "code",
   "execution_count": null,
   "id": "218e2eca",
   "metadata": {},
   "outputs": [],
   "source": []
  }
 ],
 "metadata": {
  "kernelspec": {
   "display_name": "Python 3 (ipykernel)",
   "language": "python",
   "name": "python3"
  },
  "language_info": {
   "codemirror_mode": {
    "name": "ipython",
    "version": 3
   },
   "file_extension": ".py",
   "mimetype": "text/x-python",
   "name": "python",
   "nbconvert_exporter": "python",
   "pygments_lexer": "ipython3",
   "version": "3.9.7"
  }
 },
 "nbformat": 4,
 "nbformat_minor": 5
}
