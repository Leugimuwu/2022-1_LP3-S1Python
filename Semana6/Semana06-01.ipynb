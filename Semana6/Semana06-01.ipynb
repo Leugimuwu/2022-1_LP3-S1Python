{
 "cells": [
  {
   "cell_type": "markdown",
   "id": "44dd1508",
   "metadata": {},
   "source": [
    "# SEMANA 06\n",
    "Miguel Angel Yauricasa Mendoza\n",
    "\n",
    "1.Coleccion de Datos\n"
   ]
  },
  {
   "cell_type": "code",
   "execution_count": 1,
   "id": "91161479",
   "metadata": {},
   "outputs": [
    {
     "name": "stdout",
     "output_type": "stream",
     "text": [
      "['Yauricasa', 'Granados', 'Alva', 'Laura']\n"
     ]
    }
   ],
   "source": [
    "#1.1. Listas\n",
    "#Es una coleccion de elementos que pueden ser ordenadas, modificadas, etc...\n",
    "#Se identifica por los corchetes\n",
    "#Ejemplo:\n",
    "aula = ['Yauricasa','Granados','Alva','Laura']\n",
    "print(aula)"
   ]
  },
  {
   "cell_type": "code",
   "execution_count": 2,
   "id": "24d5afae",
   "metadata": {},
   "outputs": [
    {
     "name": "stdout",
     "output_type": "stream",
     "text": [
      "Yauricasa\n",
      "Granados\n"
     ]
    }
   ],
   "source": [
    "#Podemos extraer cada elemento por su posición\n",
    "print(aula[0])\n",
    "print(aula[1])\n"
   ]
  },
  {
   "cell_type": "code",
   "execution_count": 3,
   "id": "62bd09a2",
   "metadata": {},
   "outputs": [
    {
     "data": {
      "text/plain": [
       "'Chavez'"
      ]
     },
     "execution_count": 3,
     "metadata": {},
     "output_type": "execute_result"
    }
   ],
   "source": [
    "#Puedo asignar un valor a una posición de la lista \n",
    "aula[1] = 'Chavez'\n",
    "aula[1]"
   ]
  },
  {
   "cell_type": "code",
   "execution_count": 4,
   "id": "4b94d97e",
   "metadata": {},
   "outputs": [
    {
     "data": {
      "text/plain": [
       "['Yauricasa', 'Chavez', 'Alva', 'Laura']"
      ]
     },
     "execution_count": 4,
     "metadata": {},
     "output_type": "execute_result"
    }
   ],
   "source": [
    "#Mostramos como quedo la lista\n",
    "aula"
   ]
  },
  {
   "cell_type": "code",
   "execution_count": 16,
   "id": "c79580ef",
   "metadata": {},
   "outputs": [],
   "source": [
    "#Para agregar un elemento utilizamos append\n",
    "aula.append(\"Huaman\")\n",
    "aula.append(\"Huancas\")"
   ]
  },
  {
   "cell_type": "code",
   "execution_count": 17,
   "id": "532e1663",
   "metadata": {},
   "outputs": [
    {
     "data": {
      "text/plain": [
       "['Chavez', 'Alva', 'Laura', 'Huaman', 'Huaman', 'Huancas', 'Huaman', 'Huancas']"
      ]
     },
     "execution_count": 17,
     "metadata": {},
     "output_type": "execute_result"
    }
   ],
   "source": [
    "aula"
   ]
  },
  {
   "cell_type": "code",
   "execution_count": 19,
   "id": "8adce339",
   "metadata": {},
   "outputs": [
    {
     "data": {
      "text/plain": [
       "['Chavez', 'Alva', 'Laura', 'Huaman', 'Huancas', 'Huaman', 'Huancas']"
      ]
     },
     "execution_count": 19,
     "metadata": {},
     "output_type": "execute_result"
    }
   ],
   "source": [
    "#Para eliminar elementos utilizamos remove[]\n",
    "aula.remove(\"Huaman\")\n",
    "aula"
   ]
  },
  {
   "cell_type": "code",
   "execution_count": 20,
   "id": "48af5192",
   "metadata": {},
   "outputs": [
    {
     "data": {
      "text/plain": [
       "['Alva', 'Laura', 'Huaman', 'Huancas', 'Huaman', 'Huancas']"
      ]
     },
     "execution_count": 20,
     "metadata": {},
     "output_type": "execute_result"
    }
   ],
   "source": [
    "#Si hubiera varios elementos de valores iguales se elimina lo primero coincidencia\n",
    "aula.remove(\"Chavez\")\n",
    "aula"
   ]
  },
  {
   "cell_type": "code",
   "execution_count": 21,
   "id": "87eca01a",
   "metadata": {},
   "outputs": [
    {
     "data": {
      "text/plain": [
       "6"
      ]
     },
     "execution_count": 21,
     "metadata": {},
     "output_type": "execute_result"
    }
   ],
   "source": [
    "#Para obtener el tamaño utilizamos len()\n",
    "len(aula)"
   ]
  },
  {
   "cell_type": "code",
   "execution_count": 22,
   "id": "187bf33e",
   "metadata": {},
   "outputs": [
    {
     "data": {
      "text/plain": [
       "'Huaman'"
      ]
     },
     "execution_count": 22,
     "metadata": {},
     "output_type": "execute_result"
    }
   ],
   "source": [
    "aula.pop(2)"
   ]
  },
  {
   "cell_type": "code",
   "execution_count": 23,
   "id": "706b2005",
   "metadata": {},
   "outputs": [
    {
     "data": {
      "text/plain": [
       "['Alva', 'Laura', 'Huancas', 'Huaman', 'Huancas']"
      ]
     },
     "execution_count": 23,
     "metadata": {},
     "output_type": "execute_result"
    }
   ],
   "source": [
    "aula"
   ]
  },
  {
   "cell_type": "code",
   "execution_count": 24,
   "id": "c8f2582f",
   "metadata": {},
   "outputs": [
    {
     "name": "stdout",
     "output_type": "stream",
     "text": [
      "Alva\n",
      "Laura\n",
      "Huancas\n",
      "Huaman\n",
      "Huancas\n"
     ]
    }
   ],
   "source": [
    "for alumno in aula:\n",
    "    print(alumno)"
   ]
  },
  {
   "cell_type": "code",
   "execution_count": 25,
   "id": "bf796412",
   "metadata": {},
   "outputs": [
    {
     "data": {
      "text/plain": [
       "['Alva', 'Laura', 'Huancas', 'Huaman', 'Huancas', 'Vilca', 'Gavino']"
      ]
     },
     "execution_count": 25,
     "metadata": {},
     "output_type": "execute_result"
    }
   ],
   "source": [
    "aula.append(\"Vilca\")\n",
    "aula.append(\"Gavino\")\n",
    "aula"
   ]
  },
  {
   "cell_type": "code",
   "execution_count": 28,
   "id": "16955f8c",
   "metadata": {},
   "outputs": [
    {
     "name": "stdout",
     "output_type": "stream",
     "text": [
      "Alva\n",
      "Laura\n",
      "Huancas\n",
      "Huaman\n",
      "Huancas\n",
      "Vilca\n",
      "Gavino\n"
     ]
    }
   ],
   "source": [
    "for alumno in aula:\n",
    "    print(alumno)\n"
   ]
  },
  {
   "cell_type": "code",
   "execution_count": 29,
   "id": "1ddc92c0",
   "metadata": {},
   "outputs": [
    {
     "data": {
      "text/plain": [
       "['Gavino', 'Vilca', 'Huancas', 'Huaman', 'Huancas', 'Laura', 'Alva']"
      ]
     },
     "execution_count": 29,
     "metadata": {},
     "output_type": "execute_result"
    }
   ],
   "source": [
    "#Para invertir la lista utilizamos reverse()\n",
    "# Invertir NO SIGNIFICA ordenar en forma descendente sin invertir la lista\n",
    "aula.reverse()\n",
    "aula"
   ]
  },
  {
   "cell_type": "code",
   "execution_count": 30,
   "id": "6354936c",
   "metadata": {},
   "outputs": [
    {
     "data": {
      "text/plain": [
       "['Alva', 'Gavino', 'Huaman', 'Huancas', 'Huancas', 'Laura', 'Vilca']"
      ]
     },
     "execution_count": 30,
     "metadata": {},
     "output_type": "execute_result"
    }
   ],
   "source": [
    "# Para ordenar una lista utilizamos sort()\n",
    "aula.sort()\n",
    "aula"
   ]
  },
  {
   "cell_type": "code",
   "execution_count": 31,
   "id": "5b16c29e",
   "metadata": {},
   "outputs": [
    {
     "data": {
      "text/plain": [
       "('Granados', 'Julca', 'Cusi', 'Marcos')"
      ]
     },
     "execution_count": 31,
     "metadata": {},
     "output_type": "execute_result"
    }
   ],
   "source": [
    "#1.2 Tuplas\n",
    "# Es una coleccion de elementos ordenada(ordenado significa que tiene un indice) que no se pueden modificar \n",
    "# es  INALTERABLE.\n",
    "# NO SE PUEDE AGREGAR ELEMENTOS  NI ELIMINAR. \n",
    "# SE IDENTIFICAN POR LOS PARENTESIS \n",
    "tupla_aula=('Granados','Julca','Cusi','Marcos')\n",
    "tupla_aula"
   ]
  },
  {
   "cell_type": "code",
   "execution_count": 32,
   "id": "cd864281",
   "metadata": {},
   "outputs": [
    {
     "name": "stdout",
     "output_type": "stream",
     "text": [
      "Granados\n",
      "Julca\n",
      "Cusi\n",
      "Marcos\n"
     ]
    }
   ],
   "source": [
    "for alumno in tupla_aula:\n",
    "    print(alumno)"
   ]
  },
  {
   "cell_type": "code",
   "execution_count": 33,
   "id": "f129097b",
   "metadata": {},
   "outputs": [
    {
     "data": {
      "text/plain": [
       "'Cusi'"
      ]
     },
     "execution_count": 33,
     "metadata": {},
     "output_type": "execute_result"
    }
   ],
   "source": [
    "#Se puede extraer un elemento por su posición\n",
    "tupla_aula[2]"
   ]
  },
  {
   "cell_type": "code",
   "execution_count": 34,
   "id": "cc45229b",
   "metadata": {},
   "outputs": [
    {
     "data": {
      "text/plain": [
       "4"
      ]
     },
     "execution_count": 34,
     "metadata": {},
     "output_type": "execute_result"
    }
   ],
   "source": [
    "len(tupla_aula)"
   ]
  },
  {
   "cell_type": "code",
   "execution_count": 35,
   "id": "c137e163",
   "metadata": {},
   "outputs": [
    {
     "data": {
      "text/plain": [
       "{'Cusi', 'Granados', 'Julca', 'Marcos'}"
      ]
     },
     "execution_count": 35,
     "metadata": {},
     "output_type": "execute_result"
    }
   ],
   "source": [
    "#1.3 Conjuntos\n",
    "#Es una colección de elementos que no esta ordenado( significa que no tiene un indice)\n",
    "conjunto_aula = {'Granados','Julca','Cusi','Marcos'}\n",
    "conjunto_aula"
   ]
  },
  {
   "cell_type": "code",
   "execution_count": 36,
   "id": "68dd8a66",
   "metadata": {},
   "outputs": [
    {
     "name": "stdout",
     "output_type": "stream",
     "text": [
      "Julca\n",
      "Cusi\n",
      "Granados\n",
      "Marcos\n"
     ]
    }
   ],
   "source": [
    "#Se puede recorrer utilizando una estructura repetitiva\n",
    "#Ejemplo: for\n",
    "for alumno in conjunto_aula:\n",
    "    print(alumno)\n"
   ]
  },
  {
   "cell_type": "code",
   "execution_count": 37,
   "id": "21c0032d",
   "metadata": {},
   "outputs": [],
   "source": [
    "#Observaciones : No se puede acceder por posición porque no considera indexación\n",
    "#Ejemplo:\n",
    "#conjunto_aula[2] devolver un mensaje de error "
   ]
  },
  {
   "cell_type": "code",
   "execution_count": 38,
   "id": "62541c68",
   "metadata": {},
   "outputs": [
    {
     "data": {
      "text/plain": [
       "4"
      ]
     },
     "execution_count": 38,
     "metadata": {},
     "output_type": "execute_result"
    }
   ],
   "source": [
    "len(conjunto_aula)"
   ]
  },
  {
   "cell_type": "code",
   "execution_count": 39,
   "id": "b86c3603",
   "metadata": {},
   "outputs": [
    {
     "data": {
      "text/plain": [
       "{'Cusi', 'Granados', 'Julca', 'Marcos', 'Motta'}"
      ]
     },
     "execution_count": 39,
     "metadata": {},
     "output_type": "execute_result"
    }
   ],
   "source": [
    "#Para agregar utilizamos la funcion add()\n",
    "conjunto_aula.add(\"Motta\")\n",
    "conjunto_aula"
   ]
  },
  {
   "cell_type": "code",
   "execution_count": 40,
   "id": "da4e41e3",
   "metadata": {},
   "outputs": [
    {
     "data": {
      "text/plain": [
       "{'Cusi', 'Julca', 'Marcos', 'Motta'}"
      ]
     },
     "execution_count": 40,
     "metadata": {},
     "output_type": "execute_result"
    }
   ],
   "source": [
    "conjunto_aula.remove(\"Granados\")\n",
    "conjunto_aula"
   ]
  },
  {
   "cell_type": "code",
   "execution_count": 41,
   "id": "781c0533",
   "metadata": {},
   "outputs": [
    {
     "data": {
      "text/plain": [
       "{2: 'Cusi', '1': 'Julca', 'dos': 'Marcos', '0': 'Motta'}"
      ]
     },
     "execution_count": 41,
     "metadata": {},
     "output_type": "execute_result"
    }
   ],
   "source": [
    "#1.4 Diccionarios\n",
    "#Es una coleccion de elementos, que estan indexados , no ordenados y se pueden modificar \n",
    "#Son escritos entre llaves y estan formados por pares de elementos  INDICE : VALOR\n",
    "\n",
    "diccionario_aula = {2:'Cusi','1':'Julca','dos':'Marcos','0':'Motta'}\n",
    "diccionario_aula"
   ]
  },
  {
   "cell_type": "code",
   "execution_count": 42,
   "id": "46a4fdde",
   "metadata": {},
   "outputs": [
    {
     "data": {
      "text/plain": [
       "'Motta'"
      ]
     },
     "execution_count": 42,
     "metadata": {},
     "output_type": "execute_result"
    }
   ],
   "source": [
    "# Del diccionario: diccionario_aula estraer el valor cuyo indice sea cero en String:\n",
    "diccionario_aula['0']"
   ]
  },
  {
   "cell_type": "code",
   "execution_count": 43,
   "id": "45f89bb9",
   "metadata": {},
   "outputs": [
    {
     "data": {
      "text/plain": [
       "'Marcos'"
      ]
     },
     "execution_count": 43,
     "metadata": {},
     "output_type": "execute_result"
    }
   ],
   "source": [
    "diccionario_aula[\"dos\"]"
   ]
  },
  {
   "cell_type": "code",
   "execution_count": 44,
   "id": "53c84d7b",
   "metadata": {},
   "outputs": [
    {
     "data": {
      "text/plain": [
       "{2: 'Cusi', '1': 'Julca', 'dos': 'Marcos', '0': 'Motta', '20': 'Serna'}"
      ]
     },
     "execution_count": 44,
     "metadata": {},
     "output_type": "execute_result"
    }
   ],
   "source": [
    "diccionario_aula['20']=\"Serna\"\n",
    "diccionario_aula"
   ]
  },
  {
   "cell_type": "code",
   "execution_count": 45,
   "id": "3888e927",
   "metadata": {},
   "outputs": [
    {
     "data": {
      "text/plain": [
       "{'1': 'Julca', 'dos': 'Marcos', '0': 'Motta', '20': 'Serna'}"
      ]
     },
     "execution_count": 45,
     "metadata": {},
     "output_type": "execute_result"
    }
   ],
   "source": [
    "#Para eliminar un valor se utiliza pop()\n",
    "#Ejemplo: Eliminar el elemento de indice dos:\n",
    "diccionario_aula.pop(2)\n",
    "diccionario_aula"
   ]
  },
  {
   "cell_type": "code",
   "execution_count": 46,
   "id": "1aab1ef5",
   "metadata": {},
   "outputs": [
    {
     "data": {
      "text/plain": [
       "{'1': 'Julca', '0': 'Motta', '20': 'Serna'}"
      ]
     },
     "execution_count": 46,
     "metadata": {},
     "output_type": "execute_result"
    }
   ],
   "source": [
    "#Tambien se puede eliminar utilizando del()\n",
    "del (diccionario_aula[\"dos\"])\n",
    "diccionario_aula"
   ]
  },
  {
   "cell_type": "code",
   "execution_count": 47,
   "id": "82b5a2bb",
   "metadata": {},
   "outputs": [
    {
     "name": "stdout",
     "output_type": "stream",
     "text": [
      "1\n",
      "0\n",
      "20\n"
     ]
    }
   ],
   "source": [
    "# Para recorrer todos los elementos utilizamos for \n",
    "#Ejemplo: devuelve indices\n",
    "for indice in diccionario_aula:\n",
    "    print(indice)"
   ]
  },
  {
   "cell_type": "code",
   "execution_count": 48,
   "id": "1caf3e95",
   "metadata": {},
   "outputs": [
    {
     "name": "stdout",
     "output_type": "stream",
     "text": [
      "1 Julca\n",
      "0 Motta\n",
      "20 Serna\n"
     ]
    }
   ],
   "source": [
    "# Para obtener el indice y el valor de cada elemento utilizamos items()\n",
    "for indice, valor in diccionario_aula.items():\n",
    "    print(indice, valor)"
   ]
  },
  {
   "cell_type": "code",
   "execution_count": 59,
   "id": "110cc9fa",
   "metadata": {},
   "outputs": [
    {
     "name": "stdout",
     "output_type": "stream",
     "text": [
      "Ingresa un apellido: Motta\n",
      "Si se encuentra\n"
     ]
    }
   ],
   "source": [
    "#1.5. Ejercicio:\n",
    "# Dado una lista de [Alanya]\n",
    "lista = [\"ALANYA\" \n",
    ",\"ALVA\"\n",
    ",\"AZAÑERO\" \n",
    ",\"CARRASCO\" \n",
    ",\"CCACCYA\" \n",
    ",\"COSME\" \n",
    ",\"CUSI\" \n",
    ",\"DIAZ\" \n",
    ",\"FLORES\" \n",
    ",\"GOMEZ\" \n",
    ",\"GOMEZ\" \n",
    ",\"GRANADOS\" \n",
    ",\"HUANCAS\"\n",
    ",\"JULCA\" \n",
    ",\"LAURA\" \n",
    ",\"MOTTA\" \n",
    ",\"PINEDO\" \n",
    ",\"PONCE\" \n",
    ",\"QUINTANA\"\n",
    ",\"RODRIGUEZ\" \n",
    ",\"SERNA\" \n",
    ",\"VILCA\" \n",
    ",\"YAURICASA\"]\n",
    "\n",
    "#Diseñar un codigo que muestre si el apellido de un estudiante (ingreso por teclado forma parte de la lista)\n",
    "\n",
    "apellido = input(\"Ingresa un apellido: \")\n",
    "bandera = False\n",
    "for alumno in lista:\n",
    "    alumno = alumno.capitalize()\n",
    "    alumno = apellido.capitalize()\n",
    "    if apellido == alumno:\n",
    "        print(\"Si se encuentra\")\n",
    "        bandera = True\n",
    "        break\n",
    "        \n",
    "        \n",
    "if bandera == False:\n",
    "    print(\"No se encuentra\")"
   ]
  },
  {
   "cell_type": "code",
   "execution_count": null,
   "id": "3ba01c98",
   "metadata": {},
   "outputs": [],
   "source": []
  },
  {
   "cell_type": "code",
   "execution_count": 56,
   "id": "981a903e",
   "metadata": {},
   "outputs": [
    {
     "ename": "NameError",
     "evalue": "name 'Pepito' is not defined",
     "output_type": "error",
     "traceback": [
      "\u001b[1;31m---------------------------------------------------------------------------\u001b[0m",
      "\u001b[1;31mNameError\u001b[0m                                 Traceback (most recent call last)",
      "\u001b[1;32m~\\AppData\\Local\\Temp/ipykernel_4568/167901002.py\u001b[0m in \u001b[0;36m<module>\u001b[1;34m\u001b[0m\n\u001b[1;32m----> 1\u001b[1;33m \u001b[0mPepito\u001b[0m\u001b[1;33m\u001b[0m\u001b[1;33m\u001b[0m\u001b[0m\n\u001b[0m",
      "\u001b[1;31mNameError\u001b[0m: name 'Pepito' is not defined"
     ]
    }
   ],
   "source": [
    "Pepito"
   ]
  },
  {
   "cell_type": "code",
   "execution_count": null,
   "id": "18f6ff71",
   "metadata": {},
   "outputs": [],
   "source": []
  },
  {
   "cell_type": "code",
   "execution_count": null,
   "id": "269d07f3",
   "metadata": {},
   "outputs": [],
   "source": []
  }
 ],
 "metadata": {
  "kernelspec": {
   "display_name": "Python 3 (ipykernel)",
   "language": "python",
   "name": "python3"
  },
  "language_info": {
   "codemirror_mode": {
    "name": "ipython",
    "version": 3
   },
   "file_extension": ".py",
   "mimetype": "text/x-python",
   "name": "python",
   "nbconvert_exporter": "python",
   "pygments_lexer": "ipython3",
   "version": "3.9.7"
  }
 },
 "nbformat": 4,
 "nbformat_minor": 5
}
