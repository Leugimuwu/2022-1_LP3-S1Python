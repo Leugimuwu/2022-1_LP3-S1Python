{
 "cells": [
  {
   "cell_type": "code",
   "execution_count": null,
   "id": "4ece5d8a",
   "metadata": {},
   "outputs": [],
   "source": []
  },
  {
   "cell_type": "code",
   "execution_count": null,
   "id": "584eb413",
   "metadata": {},
   "outputs": [],
   "source": []
  },
  {
   "cell_type": "markdown",
   "id": "9c33d5df",
   "metadata": {},
   "source": [
    "3. Funciones"
   ]
  },
  {
   "cell_type": "code",
   "execution_count": 1,
   "id": "f41418b8",
   "metadata": {},
   "outputs": [],
   "source": [
    "#Tambien conocidos como metodos"
   ]
  },
  {
   "cell_type": "code",
   "execution_count": 2,
   "id": "d292da17",
   "metadata": {},
   "outputs": [],
   "source": [
    "#Para crear un metodo utilizamos: def\n",
    "#tenemos 4 metodos:\n",
    "#Metodos vacios\n",
    "#Metodos que reciben valores\n",
    "#Metodos que devuelven un valor\n",
    "#Metodos que reciben y devuelven valores"
   ]
  },
  {
   "cell_type": "code",
   "execution_count": 3,
   "id": "01691e23",
   "metadata": {},
   "outputs": [],
   "source": [
    "#3.1 Metodos vacios\n",
    "#Expliacion: No reciben valores(parametros)"
   ]
  },
  {
   "cell_type": "code",
   "execution_count": 5,
   "id": "df470905",
   "metadata": {},
   "outputs": [],
   "source": [
    "def saludo():\n",
    "    print(\"Bienvenidos al curso de LP3\")\n",
    "    print(\"^^^^^PYTHON^^^^^^\")"
   ]
  },
  {
   "cell_type": "code",
   "execution_count": 6,
   "id": "07ecfbf3",
   "metadata": {},
   "outputs": [
    {
     "name": "stdout",
     "output_type": "stream",
     "text": [
      "Bienvenidos al curso de LP3\n",
      "^^^^^PYTHON^^^^^^\n"
     ]
    }
   ],
   "source": [
    "saludo()"
   ]
  },
  {
   "cell_type": "code",
   "execution_count": 7,
   "id": "1ae00ea2",
   "metadata": {},
   "outputs": [],
   "source": [
    "#3.2 Metodos que reciben valores"
   ]
  },
  {
   "cell_type": "code",
   "execution_count": 8,
   "id": "0099c803",
   "metadata": {},
   "outputs": [],
   "source": [
    "def factorial(numero):\n",
    "    fac=1\n",
    "    for i in range(1, numero+1):\n",
    "        fac*=i\n",
    "        #fac = fac*i\n",
    "        print(f\"El factorial es : {fac}\")"
   ]
  },
  {
   "cell_type": "code",
   "execution_count": 9,
   "id": "f1f94fe7",
   "metadata": {},
   "outputs": [
    {
     "name": "stdout",
     "output_type": "stream",
     "text": [
      "Ingrese el numero: 8\n",
      "El factorial es : 1\n",
      "El factorial es : 2\n",
      "El factorial es : 6\n",
      "El factorial es : 24\n",
      "El factorial es : 120\n",
      "El factorial es : 720\n",
      "El factorial es : 5040\n",
      "El factorial es : 40320\n"
     ]
    }
   ],
   "source": [
    "numero = int(input(\"Ingrese el numero: \"))\n",
    "factorial(numero)"
   ]
  },
  {
   "cell_type": "code",
   "execution_count": 10,
   "id": "7fad8634",
   "metadata": {},
   "outputs": [],
   "source": [
    "#3.3 Metodos que devuelven valores \n",
    "def saludo2():\n",
    "    mensaje= \"Bienvenidos a LP3\"\n",
    "    return mensaje"
   ]
  },
  {
   "cell_type": "code",
   "execution_count": 12,
   "id": "7d27413e",
   "metadata": {},
   "outputs": [
    {
     "name": "stdout",
     "output_type": "stream",
     "text": [
      "Bienvenidos a LP3\n"
     ]
    }
   ],
   "source": [
    "print(saludo2())"
   ]
  },
  {
   "cell_type": "code",
   "execution_count": 13,
   "id": "3b1acbc3",
   "metadata": {},
   "outputs": [],
   "source": [
    "#3.4 Metodos que reciben y devuelven valores\n",
    "def factorial2(numero):\n",
    "    fac = 1\n",
    "    for i in range(1, numero+1):\n",
    "        fac*=i\n",
    "    return fac"
   ]
  },
  {
   "cell_type": "code",
   "execution_count": 14,
   "id": "a873277c",
   "metadata": {},
   "outputs": [
    {
     "name": "stdout",
     "output_type": "stream",
     "text": [
      "Numero: 5\n",
      "El factorial de 5 es 120\n"
     ]
    }
   ],
   "source": [
    "numero = int(input(\"Numero: \"))\n",
    "print(f\"El factorial de {numero} es {factorial2(numero)}\")"
   ]
  },
  {
   "cell_type": "code",
   "execution_count": 15,
   "id": "da996d2a",
   "metadata": {},
   "outputs": [],
   "source": [
    "#Otro ejemplo:\n",
    "#Calcular el igv:\n",
    "\n",
    "def obtenerigv(importe):\n",
    "    return importe*0.19"
   ]
  },
  {
   "cell_type": "code",
   "execution_count": 18,
   "id": "deb9eada",
   "metadata": {},
   "outputs": [
    {
     "data": {
      "text/plain": [
       "28.5"
      ]
     },
     "execution_count": 18,
     "metadata": {},
     "output_type": "execute_result"
    }
   ],
   "source": [
    "obtenerigv(150)"
   ]
  },
  {
   "cell_type": "code",
   "execution_count": 19,
   "id": "92c26ce9",
   "metadata": {},
   "outputs": [
    {
     "data": {
      "text/plain": [
       "140"
      ]
     },
     "execution_count": 19,
     "metadata": {},
     "output_type": "execute_result"
    }
   ],
   "source": [
    "factorial2(5) + 20"
   ]
  },
  {
   "cell_type": "code",
   "execution_count": null,
   "id": "270032c2",
   "metadata": {},
   "outputs": [],
   "source": []
  }
 ],
 "metadata": {
  "kernelspec": {
   "display_name": "Python 3 (ipykernel)",
   "language": "python",
   "name": "python3"
  },
  "language_info": {
   "codemirror_mode": {
    "name": "ipython",
    "version": 3
   },
   "file_extension": ".py",
   "mimetype": "text/x-python",
   "name": "python",
   "nbconvert_exporter": "python",
   "pygments_lexer": "ipython3",
   "version": "3.9.7"
  }
 },
 "nbformat": 4,
 "nbformat_minor": 5
}
