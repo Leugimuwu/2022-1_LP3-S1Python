{
 "cells": [
  {
   "cell_type": "markdown",
   "id": "2fcc9a83",
   "metadata": {},
   "source": [
    "Temas:"
   ]
  },
  {
   "cell_type": "markdown",
   "id": "f58628fd",
   "metadata": {},
   "source": [
    "1. Colecciones de datos\n",
    "2. Estructuras decisivas y estructuras repetitivas\n",
    "3. Funciones\n",
    "4. Clases y Objetos"
   ]
  },
  {
   "cell_type": "markdown",
   "id": "fc2b02ec",
   "metadata": {},
   "source": [
    "4. Clases y objetos"
   ]
  },
  {
   "cell_type": "code",
   "execution_count": 3,
   "id": "e848a758",
   "metadata": {},
   "outputs": [],
   "source": [
    "#Problema 01"
   ]
  },
  {
   "cell_type": "code",
   "execution_count": 4,
   "id": "6f724567",
   "metadata": {},
   "outputs": [],
   "source": [
    "#Crear lo siguiente clase:\n",
    "# clase: persona\n",
    "# atributos: nombre, apellido talla, dni"
   ]
  },
  {
   "cell_type": "code",
   "execution_count": 5,
   "id": "d3ae8f20",
   "metadata": {},
   "outputs": [],
   "source": [
    "class Persona:\n",
    "    nombre = \"\"\n",
    "    apellido = \"\"\n",
    "    dni= \"\"\n",
    "    talla= 0"
   ]
  },
  {
   "cell_type": "code",
   "execution_count": 11,
   "id": "f540064f",
   "metadata": {},
   "outputs": [],
   "source": [
    "#Creamos un objeto personal de la clase Personal() y le asignamos valores \n",
    "#Creacion del objeto personal\n",
    "persona1 = Persona()\n",
    "\n",
    "#Asiganmos valores al objeto\n",
    "persona1.nombre = \"Pablo\"\n",
    "persona1.apellidos = \"Perez Gonzales\"\n",
    "persona1.dni = \"12345678\"\n",
    "persona1.talla = 1.7\n"
   ]
  },
  {
   "cell_type": "code",
   "execution_count": 12,
   "id": "3de73ec4",
   "metadata": {},
   "outputs": [],
   "source": [
    "# Para mostarr los valores del objeto"
   ]
  },
  {
   "cell_type": "code",
   "execution_count": 14,
   "id": "086c2b1b",
   "metadata": {},
   "outputs": [
    {
     "name": "stdout",
     "output_type": "stream",
     "text": [
      "persona1\n",
      "Nombre: Pablo\n",
      "Apellido: Perez Gonzales\n",
      "DNI: 12345678\n",
      "Talla: 1.7\n"
     ]
    }
   ],
   "source": [
    "print(\"persona1\")\n",
    "print(f\"Nombre: {persona1.nombre}\")\n",
    "print(f\"Apellido: {persona1.apellidos}\")\n",
    "print(f\"DNI: {persona1.dni}\")\n",
    "print(f\"Talla: {persona1.talla}\")"
   ]
  },
  {
   "cell_type": "code",
   "execution_count": 15,
   "id": "52905037",
   "metadata": {},
   "outputs": [],
   "source": [
    "#Para utilizar constructores utilizamos: _init_\n",
    "#¿Que es un constructor?\n",
    "# Es un metodo\n",
    "# Sirve para inicializar valores a una clase"
   ]
  },
  {
   "cell_type": "code",
   "execution_count": 16,
   "id": "61ae6e5f",
   "metadata": {},
   "outputs": [],
   "source": [
    "#Problema02:\n",
    "#Crear la siguiente clase y utilizar constructores:\n",
    "#- Clase: Curso\n",
    "# - Atributos: Codigo, Nombre, Horas, Creditos, \n"
   ]
  },
  {
   "cell_type": "code",
   "execution_count": 27,
   "id": "a71836eb",
   "metadata": {},
   "outputs": [],
   "source": [
    "#Solucion:\n",
    "class Curso:\n",
    "    def __init__(self,codigo,nombre,horas,creditos):\n",
    "        self.codigo = codigo\n",
    "        self.nombre = nombre\n",
    "        self.horas= horas\n",
    "        self.creditos= creditos\n",
    "    def mostrar_datos_curso(self):\n",
    "        print(f\"Curso: {self.nombre} \")\n",
    "        print(f\"Codigo: {self.codigo}\")\n",
    "        print(f\"Horas: {self.horas}\")\n",
    "        print(f\"Creditos: {self.creditos}\")\n",
    "        "
   ]
  },
  {
   "cell_type": "code",
   "execution_count": 28,
   "id": "40017599",
   "metadata": {},
   "outputs": [],
   "source": [
    "#Creamos el objeto curso1 y le mandamos parametros"
   ]
  },
  {
   "cell_type": "code",
   "execution_count": 29,
   "id": "7a3d8404",
   "metadata": {},
   "outputs": [],
   "source": [
    "curso1 = Curso(\"C0501\",\"LP3\",6,3)"
   ]
  },
  {
   "cell_type": "code",
   "execution_count": 30,
   "id": "b7b3ff97",
   "metadata": {},
   "outputs": [
    {
     "name": "stdout",
     "output_type": "stream",
     "text": [
      "Curso: LP3 \n",
      "Codigo: C0501\n",
      "Horas: 6\n",
      "Creditos: 3\n"
     ]
    }
   ],
   "source": [
    "curso1.mostrar_datos_curso();"
   ]
  },
  {
   "cell_type": "code",
   "execution_count": null,
   "id": "976d63a1",
   "metadata": {},
   "outputs": [],
   "source": []
  }
 ],
 "metadata": {
  "kernelspec": {
   "display_name": "Python 3 (ipykernel)",
   "language": "python",
   "name": "python3"
  },
  "language_info": {
   "codemirror_mode": {
    "name": "ipython",
    "version": 3
   },
   "file_extension": ".py",
   "mimetype": "text/x-python",
   "name": "python",
   "nbconvert_exporter": "python",
   "pygments_lexer": "ipython3",
   "version": "3.9.7"
  }
 },
 "nbformat": 4,
 "nbformat_minor": 5
}
