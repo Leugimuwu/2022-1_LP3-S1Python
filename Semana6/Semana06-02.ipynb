{
 "cells": [
  {
   "cell_type": "code",
   "execution_count": null,
   "id": "acc80158",
   "metadata": {},
   "outputs": [],
   "source": []
  },
  {
   "cell_type": "code",
   "execution_count": null,
   "id": "700c001e",
   "metadata": {},
   "outputs": [],
   "source": []
  },
  {
   "cell_type": "code",
   "execution_count": null,
   "id": "c7925da5",
   "metadata": {},
   "outputs": [],
   "source": [
    "#if \n",
    "# Problema: Dado el precio de 3 productos ingresados por el teclado, aplicar un descuesto del 10% \n",
    "#si la venta es mayor o igual a 1000\n"
   ]
  },
  {
   "cell_type": "code",
   "execution_count": 10,
   "id": "4a101d61",
   "metadata": {},
   "outputs": [
    {
     "name": "stdout",
     "output_type": "stream",
     "text": [
      "Producto 1: 250\n",
      "Producto 2: 250\n",
      "Producto 3: 600\n",
      "Total a pagar es: 990.0\n"
     ]
    }
   ],
   "source": [
    "#solucion\n",
    "P1 = float(input(\"Producto 1: \"))\n",
    "P2 = float(input(\"Producto 2: \"))\n",
    "P3 = float(input(\"Producto 3: \"))\n",
    "total = P1+P2+P3\n",
    "if total >= 1000:\n",
    "    total*=0.9\n",
    "print(f\"Total a pagar es: {total}\")\n"
   ]
  },
  {
   "cell_type": "code",
   "execution_count": null,
   "id": "71d43901",
   "metadata": {},
   "outputs": [],
   "source": [
    "#if - else"
   ]
  },
  {
   "cell_type": "code",
   "execution_count": 11,
   "id": "9f7119a6",
   "metadata": {},
   "outputs": [],
   "source": [
    "# Problema 02\n",
    "# Dado el importe total de ventas realizadas por un trabajador (ingresado por teclado, \n",
    "# categorizar que tipo de empleado es, considerando la siguiente tabla:\n",
    "\n",
    "# Categoria: A -> [0, 1000]\n",
    "# Categoria: B -> <1000, 2000]\n",
    "# Categoria: C -> <2000, 5000]\n",
    "# Categoría: D -> <5000, Mas]\n"
   ]
  },
  {
   "cell_type": "code",
   "execution_count": 37,
   "id": "09b07db9",
   "metadata": {},
   "outputs": [
    {
     "name": "stdout",
     "output_type": "stream",
     "text": [
      "Ingresa el importe total de ventas: 1000\n",
      "Eres de CATEGORÍA A\n"
     ]
    }
   ],
   "source": [
    "importe = float(input(\"Ingresa el importe total de ventas: \") )\n",
    "if importe > 0 and importe < 1001:   \n",
    "    print(\"Eres de CATEGORÍA A\")\n",
    "else:\n",
    "    if importe > 1000 and importe < 2001:    \n",
    "        print(\"Eres de CATEGORÍA B\")\n",
    "    else:\n",
    "        if importe > 2000 and importe < 3001:   \n",
    "            print(\"Eres de CATEGORÍA C\")\n",
    "        else:\n",
    "            if importe > 5000:  \n",
    "                print(\"Eres de CATEGORÍA D\") \n",
    "            else:\n",
    "                print(\"Importe invalido\")"
   ]
  },
  {
   "cell_type": "code",
   "execution_count": null,
   "id": "1d2b9af9",
   "metadata": {},
   "outputs": [],
   "source": [
    "#Ejercicio 3\n",
    "# Dado el importe total de ventas realizadas por un trabajador (ingresado por teclado, \n",
    "# categorizar que tipo de empleado es, considerando la siguiente tabla:\n",
    "\n",
    "# Categoria: A -> [0, 1000]\n",
    "# Categoria: B -> <1000, 2000]\n",
    "# Categoria: C -> <2000, 5000]\n",
    "# Categoría: D -> <5000, Mas]\n"
   ]
  },
  {
   "cell_type": "code",
   "execution_count": 19,
   "id": "8ceb9f50",
   "metadata": {},
   "outputs": [
    {
     "name": "stdout",
     "output_type": "stream",
     "text": [
      "Ingresa el importe total de ventas: 1000\n",
      "Eres de CATEGORÍA A\n"
     ]
    }
   ],
   "source": [
    "importe = float(input(\"Ingresa el importe total de ventas: \") )\n",
    "if importe > 0 and importe < 1001:   \n",
    "    print(\"Eres de CATEGORÍA A\") \n",
    "elif importe > 1000 and importe < 2001:    \n",
    "    print(\"Eres de CATEGORÍA B\") \n",
    "elif importe > 2000 and importe < 3001:   \n",
    "    print(\"Eres de CATEGORÍA C\")\n",
    "elif importe > 5000:  \n",
    "    print(\"Eres de CATEGORÍA D\") \n",
    "else  :\n",
    "    print(\"Importe invalido\")\n"
   ]
  },
  {
   "cell_type": "code",
   "execution_count": 24,
   "id": "9c8af8d6",
   "metadata": {},
   "outputs": [],
   "source": [
    "# Problema 01:\n",
    "#Mostrar los elementos de una lista utilizando for"
   ]
  },
  {
   "cell_type": "code",
   "execution_count": 25,
   "id": "2b787f44",
   "metadata": {},
   "outputs": [],
   "source": [
    "# Solucion\n",
    "aula = {'Yauricasa','Granados','Alva','Laura'}\n",
    "#Por cada alumno que esta en la lista, imprimir alumno"
   ]
  },
  {
   "cell_type": "code",
   "execution_count": 26,
   "id": "8b622650",
   "metadata": {},
   "outputs": [
    {
     "name": "stdout",
     "output_type": "stream",
     "text": [
      "Yauricasa\n",
      "Laura\n",
      "Granados\n",
      "Alva\n"
     ]
    }
   ],
   "source": [
    "for alumno in aula:\n",
    "    print(alumno)"
   ]
  },
  {
   "cell_type": "code",
   "execution_count": 27,
   "id": "99f91c23",
   "metadata": {},
   "outputs": [],
   "source": [
    "#Problema02\n",
    "#Dado una cadena ingresado por teclado, mostrar cada caracter de la cadena, utilizando for"
   ]
  },
  {
   "cell_type": "code",
   "execution_count": 28,
   "id": "08d631db",
   "metadata": {},
   "outputs": [
    {
     "name": "stdout",
     "output_type": "stream",
     "text": [
      "Ingrese cadena: jose\n",
      "j\n",
      "o\n",
      "s\n",
      "e\n"
     ]
    }
   ],
   "source": [
    "#Solucion\n",
    "cadena = input(\"Ingrese cadena: \")\n",
    "for caracter in cadena:\n",
    "    print(caracter)"
   ]
  },
  {
   "cell_type": "code",
   "execution_count": 29,
   "id": "34874973",
   "metadata": {},
   "outputs": [
    {
     "data": {
      "text/plain": [
       "range(0, 5)"
      ]
     },
     "execution_count": 29,
     "metadata": {},
     "output_type": "execute_result"
    }
   ],
   "source": [
    "#Para generar rangos de los numeros range()\n",
    "range(5)"
   ]
  },
  {
   "cell_type": "code",
   "execution_count": 30,
   "id": "268ef387",
   "metadata": {},
   "outputs": [
    {
     "name": "stdout",
     "output_type": "stream",
     "text": [
      "1\n",
      "2\n",
      "3\n",
      "4\n",
      "5\n",
      "6\n",
      "7\n",
      "8\n",
      "9\n",
      "10\n"
     ]
    }
   ],
   "source": [
    "#Imprimir los numeros de 0 a 10 utilizando for\n",
    "numeros = range(10)\n",
    "for numero in numeros:\n",
    "    print(numero + 1)"
   ]
  },
  {
   "cell_type": "code",
   "execution_count": 31,
   "id": "ff815cff",
   "metadata": {},
   "outputs": [],
   "source": [
    "#Problema 02:\n",
    "#Imprimir los numeros de 10 a 20, utilizando"
   ]
  },
  {
   "cell_type": "code",
   "execution_count": 32,
   "id": "9db30213",
   "metadata": {},
   "outputs": [
    {
     "name": "stdout",
     "output_type": "stream",
     "text": [
      "10\n",
      "12\n",
      "14\n",
      "16\n",
      "18\n",
      "20\n"
     ]
    }
   ],
   "source": [
    "for numero in range(10,22,2):\n",
    "    print(numero)"
   ]
  },
  {
   "cell_type": "code",
   "execution_count": 33,
   "id": "1aff9b6a",
   "metadata": {},
   "outputs": [],
   "source": [
    "#Problema 03\n",
    "# Dado una lista de números, utilizando el algoritmo de burbuja ordenarlos de menor a mayor\n",
    "# Codigo en java\n",
    "# package ordenamiento;\n",
    "# public class burbuja {\n",
    "#    public static void main(String[] args) {\n",
    "#        int temp; \n",
    "#        int lista[]={10,20,5,-10,100, 0, 50, 17, 2000,-1000,0};\n",
    "#        for(int i=0;i<lista.length-1;i++){\n",
    "#            for(int j=i+1; j<lista.length; j++){\n",
    "#                if(lista[i]>lista[j]){\n",
    "#                    temp = lista[i];\n",
    "#                    lista[i] = lista[j];\n",
    "#                    lista[j] = temp;\n",
    "#                }                              \n",
    "# "
   ]
  },
  {
   "cell_type": "code",
   "execution_count": 38,
   "id": "53fdb991",
   "metadata": {},
   "outputs": [],
   "source": [
    "# while4\n",
    "#permite ejecutar un conjunto de acciones mientras se cumpla una condicion"
   ]
  },
  {
   "cell_type": "code",
   "execution_count": 40,
   "id": "76ba0275",
   "metadata": {},
   "outputs": [
    {
     "name": "stdout",
     "output_type": "stream",
     "text": [
      "1\n",
      "2\n",
      "3\n",
      "4\n",
      "5\n",
      "6\n",
      "7\n",
      "8\n",
      "9\n",
      "10\n"
     ]
    }
   ],
   "source": [
    "numero = 1\n",
    "fin = 10\n",
    "while numero <=fin:\n",
    "    print(numero)\n",
    "    numero+=1"
   ]
  },
  {
   "cell_type": "code",
   "execution_count": null,
   "id": "139a60e6",
   "metadata": {},
   "outputs": [],
   "source": []
  }
 ],
 "metadata": {
  "kernelspec": {
   "display_name": "Python 3 (ipykernel)",
   "language": "python",
   "name": "python3"
  },
  "language_info": {
   "codemirror_mode": {
    "name": "ipython",
    "version": 3
   },
   "file_extension": ".py",
   "mimetype": "text/x-python",
   "name": "python",
   "nbconvert_exporter": "python",
   "pygments_lexer": "ipython3",
   "version": "3.9.7"
  }
 },
 "nbformat": 4,
 "nbformat_minor": 5
}
